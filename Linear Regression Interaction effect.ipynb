{
 "cells": [
  {
   "cell_type": "markdown",
   "id": "cb547c5e",
   "metadata": {},
   "source": [
    "### What is the effect of advertising on the company’s sales, given the effects of other advertising?\n",
    "### For sake of simplicity let's consider what is the effect of Youtube advertising on sales?\n",
    "#### Is there any effect(interaction) of Facebook and newspaper advertising?"
   ]
  },
  {
   "cell_type": "code",
   "execution_count": 32,
   "id": "7cf7c9a7",
   "metadata": {},
   "outputs": [],
   "source": [
    "import pandas as pd\n",
    "import matplotlib.pyplot as plt\n",
    "from sklearn.model_selection import train_test_split\n",
    "from sklearn.linear_model import LinearRegression\n",
    "import statsmodels.api as sm"
   ]
  },
  {
   "cell_type": "code",
   "execution_count": 3,
   "id": "f92ad512",
   "metadata": {},
   "outputs": [
    {
     "data": {
      "text/html": [
       "<div>\n",
       "<style scoped>\n",
       "    .dataframe tbody tr th:only-of-type {\n",
       "        vertical-align: middle;\n",
       "    }\n",
       "\n",
       "    .dataframe tbody tr th {\n",
       "        vertical-align: top;\n",
       "    }\n",
       "\n",
       "    .dataframe thead th {\n",
       "        text-align: right;\n",
       "    }\n",
       "</style>\n",
       "<table border=\"1\" class=\"dataframe\">\n",
       "  <thead>\n",
       "    <tr style=\"text-align: right;\">\n",
       "      <th></th>\n",
       "      <th>youtube</th>\n",
       "      <th>facebook</th>\n",
       "      <th>newspaper</th>\n",
       "      <th>sales</th>\n",
       "    </tr>\n",
       "  </thead>\n",
       "  <tbody>\n",
       "    <tr>\n",
       "      <th>0</th>\n",
       "      <td>276.12</td>\n",
       "      <td>45.36</td>\n",
       "      <td>83.04</td>\n",
       "      <td>26.52</td>\n",
       "    </tr>\n",
       "    <tr>\n",
       "      <th>1</th>\n",
       "      <td>53.40</td>\n",
       "      <td>47.16</td>\n",
       "      <td>54.12</td>\n",
       "      <td>12.48</td>\n",
       "    </tr>\n",
       "    <tr>\n",
       "      <th>2</th>\n",
       "      <td>20.64</td>\n",
       "      <td>55.08</td>\n",
       "      <td>83.16</td>\n",
       "      <td>11.16</td>\n",
       "    </tr>\n",
       "    <tr>\n",
       "      <th>3</th>\n",
       "      <td>181.80</td>\n",
       "      <td>49.56</td>\n",
       "      <td>70.20</td>\n",
       "      <td>22.20</td>\n",
       "    </tr>\n",
       "    <tr>\n",
       "      <th>4</th>\n",
       "      <td>216.96</td>\n",
       "      <td>12.96</td>\n",
       "      <td>70.08</td>\n",
       "      <td>15.48</td>\n",
       "    </tr>\n",
       "  </tbody>\n",
       "</table>\n",
       "</div>"
      ],
      "text/plain": [
       "   youtube  facebook  newspaper  sales\n",
       "0   276.12     45.36      83.04  26.52\n",
       "1    53.40     47.16      54.12  12.48\n",
       "2    20.64     55.08      83.16  11.16\n",
       "3   181.80     49.56      70.20  22.20\n",
       "4   216.96     12.96      70.08  15.48"
      ]
     },
     "execution_count": 3,
     "metadata": {},
     "output_type": "execute_result"
    }
   ],
   "source": [
    "df = pd.read_csv(\"data_interactions_1.csv\")\n",
    "df.head()"
   ]
  },
  {
   "cell_type": "code",
   "execution_count": 5,
   "id": "d5c2c254",
   "metadata": {},
   "outputs": [
    {
     "data": {
      "text/plain": [
       "youtube      float64\n",
       "facebook     float64\n",
       "newspaper    float64\n",
       "sales        float64\n",
       "dtype: object"
      ]
     },
     "execution_count": 5,
     "metadata": {},
     "output_type": "execute_result"
    }
   ],
   "source": [
    "df.dtypes"
   ]
  },
  {
   "cell_type": "code",
   "execution_count": 6,
   "id": "6fe6ae3e",
   "metadata": {},
   "outputs": [
    {
     "data": {
      "text/plain": [
       "(200, 4)"
      ]
     },
     "execution_count": 6,
     "metadata": {},
     "output_type": "execute_result"
    }
   ],
   "source": [
    "df.shape"
   ]
  },
  {
   "cell_type": "code",
   "execution_count": 9,
   "id": "bf58092d",
   "metadata": {},
   "outputs": [
    {
     "data": {
      "text/plain": [
       "youtube      0\n",
       "facebook     0\n",
       "newspaper    0\n",
       "sales        0\n",
       "dtype: int64"
      ]
     },
     "execution_count": 9,
     "metadata": {},
     "output_type": "execute_result"
    }
   ],
   "source": [
    "df.isna().sum()"
   ]
  },
  {
   "cell_type": "code",
   "execution_count": 8,
   "id": "bea4183b",
   "metadata": {},
   "outputs": [
    {
     "data": {
      "text/html": [
       "<div>\n",
       "<style scoped>\n",
       "    .dataframe tbody tr th:only-of-type {\n",
       "        vertical-align: middle;\n",
       "    }\n",
       "\n",
       "    .dataframe tbody tr th {\n",
       "        vertical-align: top;\n",
       "    }\n",
       "\n",
       "    .dataframe thead th {\n",
       "        text-align: right;\n",
       "    }\n",
       "</style>\n",
       "<table border=\"1\" class=\"dataframe\">\n",
       "  <thead>\n",
       "    <tr style=\"text-align: right;\">\n",
       "      <th></th>\n",
       "      <th>youtube</th>\n",
       "      <th>facebook</th>\n",
       "      <th>newspaper</th>\n",
       "      <th>sales</th>\n",
       "    </tr>\n",
       "  </thead>\n",
       "  <tbody>\n",
       "    <tr>\n",
       "      <th>count</th>\n",
       "      <td>200.000000</td>\n",
       "      <td>200.000000</td>\n",
       "      <td>200.000000</td>\n",
       "      <td>200.000000</td>\n",
       "    </tr>\n",
       "    <tr>\n",
       "      <th>mean</th>\n",
       "      <td>176.451000</td>\n",
       "      <td>27.916800</td>\n",
       "      <td>36.664800</td>\n",
       "      <td>16.827000</td>\n",
       "    </tr>\n",
       "    <tr>\n",
       "      <th>std</th>\n",
       "      <td>103.025084</td>\n",
       "      <td>17.816171</td>\n",
       "      <td>26.134345</td>\n",
       "      <td>6.260948</td>\n",
       "    </tr>\n",
       "    <tr>\n",
       "      <th>min</th>\n",
       "      <td>0.840000</td>\n",
       "      <td>0.000000</td>\n",
       "      <td>0.360000</td>\n",
       "      <td>1.920000</td>\n",
       "    </tr>\n",
       "    <tr>\n",
       "      <th>25%</th>\n",
       "      <td>89.250000</td>\n",
       "      <td>11.970000</td>\n",
       "      <td>15.300000</td>\n",
       "      <td>12.450000</td>\n",
       "    </tr>\n",
       "    <tr>\n",
       "      <th>50%</th>\n",
       "      <td>179.700000</td>\n",
       "      <td>27.480000</td>\n",
       "      <td>30.900000</td>\n",
       "      <td>15.480000</td>\n",
       "    </tr>\n",
       "    <tr>\n",
       "      <th>75%</th>\n",
       "      <td>262.590000</td>\n",
       "      <td>43.830000</td>\n",
       "      <td>54.120000</td>\n",
       "      <td>20.880000</td>\n",
       "    </tr>\n",
       "    <tr>\n",
       "      <th>max</th>\n",
       "      <td>355.680000</td>\n",
       "      <td>59.520000</td>\n",
       "      <td>136.800000</td>\n",
       "      <td>32.400000</td>\n",
       "    </tr>\n",
       "  </tbody>\n",
       "</table>\n",
       "</div>"
      ],
      "text/plain": [
       "          youtube    facebook   newspaper       sales\n",
       "count  200.000000  200.000000  200.000000  200.000000\n",
       "mean   176.451000   27.916800   36.664800   16.827000\n",
       "std    103.025084   17.816171   26.134345    6.260948\n",
       "min      0.840000    0.000000    0.360000    1.920000\n",
       "25%     89.250000   11.970000   15.300000   12.450000\n",
       "50%    179.700000   27.480000   30.900000   15.480000\n",
       "75%    262.590000   43.830000   54.120000   20.880000\n",
       "max    355.680000   59.520000  136.800000   32.400000"
      ]
     },
     "execution_count": 8,
     "metadata": {},
     "output_type": "execute_result"
    }
   ],
   "source": [
    "##Generating 5 number summary for the dataset\n",
    "df.describe()"
   ]
  },
  {
   "cell_type": "markdown",
   "id": "270f43ea",
   "metadata": {},
   "source": [
    "Mean budget for YouTube advertising is 176.45 dollars while mean budget for facebook is 17.81 dollars"
   ]
  },
  {
   "cell_type": "code",
   "execution_count": 13,
   "id": "4157618e",
   "metadata": {},
   "outputs": [
    {
     "data": {
      "text/html": [
       "<div>\n",
       "<style scoped>\n",
       "    .dataframe tbody tr th:only-of-type {\n",
       "        vertical-align: middle;\n",
       "    }\n",
       "\n",
       "    .dataframe tbody tr th {\n",
       "        vertical-align: top;\n",
       "    }\n",
       "\n",
       "    .dataframe thead th {\n",
       "        text-align: right;\n",
       "    }\n",
       "</style>\n",
       "<table border=\"1\" class=\"dataframe\">\n",
       "  <thead>\n",
       "    <tr style=\"text-align: right;\">\n",
       "      <th></th>\n",
       "      <th>youtube</th>\n",
       "      <th>facebook</th>\n",
       "      <th>newspaper</th>\n",
       "      <th>sales</th>\n",
       "    </tr>\n",
       "  </thead>\n",
       "  <tbody>\n",
       "    <tr>\n",
       "      <th>youtube</th>\n",
       "      <td>1.000000</td>\n",
       "      <td>0.054809</td>\n",
       "      <td>0.056648</td>\n",
       "      <td>0.782224</td>\n",
       "    </tr>\n",
       "    <tr>\n",
       "      <th>facebook</th>\n",
       "      <td>0.054809</td>\n",
       "      <td>1.000000</td>\n",
       "      <td>0.354104</td>\n",
       "      <td>0.576223</td>\n",
       "    </tr>\n",
       "    <tr>\n",
       "      <th>newspaper</th>\n",
       "      <td>0.056648</td>\n",
       "      <td>0.354104</td>\n",
       "      <td>1.000000</td>\n",
       "      <td>0.228299</td>\n",
       "    </tr>\n",
       "    <tr>\n",
       "      <th>sales</th>\n",
       "      <td>0.782224</td>\n",
       "      <td>0.576223</td>\n",
       "      <td>0.228299</td>\n",
       "      <td>1.000000</td>\n",
       "    </tr>\n",
       "  </tbody>\n",
       "</table>\n",
       "</div>"
      ],
      "text/plain": [
       "            youtube  facebook  newspaper     sales\n",
       "youtube    1.000000  0.054809   0.056648  0.782224\n",
       "facebook   0.054809  1.000000   0.354104  0.576223\n",
       "newspaper  0.056648  0.354104   1.000000  0.228299\n",
       "sales      0.782224  0.576223   0.228299  1.000000"
      ]
     },
     "execution_count": 13,
     "metadata": {},
     "output_type": "execute_result"
    }
   ],
   "source": [
    "##Vizualization\n",
    "df.corr()"
   ]
  },
  {
   "cell_type": "markdown",
   "id": "d71a0186",
   "metadata": {},
   "source": [
    "No strong correlation between the independent features, strong correlation between youtube ads and sales"
   ]
  },
  {
   "cell_type": "code",
   "execution_count": 21,
   "id": "a467f5b7",
   "metadata": {},
   "outputs": [
    {
     "data": {
      "text/plain": [
       "<matplotlib.collections.PathCollection at 0x1e1ec7f6520>"
      ]
     },
     "execution_count": 21,
     "metadata": {},
     "output_type": "execute_result"
    },
    {
     "data": {
      "image/png": "[encoded data removed]",
      "text/plain": [
       "<Figure size 432x288 with 1 Axes>"
      ]
     },
     "metadata": {
      "needs_background": "light"
     },
     "output_type": "display_data"
    }
   ],
   "source": [
    "plt.scatter(df.youtube, df.sales)"
   ]
  },
  {
   "cell_type": "code",
   "execution_count": 22,
   "id": "efbec179",
   "metadata": {},
   "outputs": [
    {
     "data": {
      "text/plain": [
       "<matplotlib.collections.PathCollection at 0x1e1ec85f6a0>"
      ]
     },
     "execution_count": 22,
     "metadata": {},
     "output_type": "execute_result"
    },
    {
     "data": {
      "image/png": "[encoded data removed]",
      "text/plain": [
       "<Figure size 432x288 with 1 Axes>"
      ]
     },
     "metadata": {
      "needs_background": "light"
     },
     "output_type": "display_data"
    }
   ],
   "source": [
    "plt.scatter(df.facebook, df.sales)"
   ]
  },
  {
   "cell_type": "code",
   "execution_count": 24,
   "id": "e6803b1e",
   "metadata": {},
   "outputs": [
    {
     "data": {
      "text/plain": [
       "<matplotlib.collections.PathCollection at 0x1e1ed98e190>"
      ]
     },
     "execution_count": 24,
     "metadata": {},
     "output_type": "execute_result"
    },
    {
     "data": {
      "image/png": "[encoded data removed]",
      "text/plain": [
       "<Figure size 432x288 with 1 Axes>"
      ]
     },
     "metadata": {
      "needs_background": "light"
     },
     "output_type": "display_data"
    }
   ],
   "source": [
    "plt.scatter(df.newspaper, df.sales)"
   ]
  },
  {
   "cell_type": "markdown",
   "id": "d65a572a",
   "metadata": {},
   "source": [
    "### Modeling"
   ]
  },
  {
   "cell_type": "code",
   "execution_count": 29,
   "id": "9785098f",
   "metadata": {},
   "outputs": [],
   "source": [
    "# Split the data into test group and train group\n",
    "y = df['sales']\n",
    "x = df.drop('sales', axis = 1)\n",
    "x_train, x_test, y_train, y_test = train_test_split(x, y)"
   ]
  },
  {
   "cell_type": "markdown",
   "id": "4a368c56",
   "metadata": {},
   "source": [
    "#### Model without interaction"
   ]
  },
  {
   "cell_type": "code",
   "execution_count": 33,
   "id": "5453e62c",
   "metadata": {},
   "outputs": [
    {
     "name": "stdout",
     "output_type": "stream",
     "text": [
      "                            OLS Regression Results                            \n",
      "==============================================================================\n",
      "Dep. Variable:                  sales   R-squared:                       0.881\n",
      "Model:                            OLS   Adj. R-squared:                  0.878\n",
      "Method:                 Least Squares   F-statistic:                     359.7\n",
      "Date:                Thu, 02 Jun 2022   Prob (F-statistic):           3.30e-67\n",
      "Time:                        00:21:58   Log-Likelihood:                -317.13\n",
      "No. Observations:                 150   AIC:                             642.3\n",
      "Df Residuals:                     146   BIC:                             654.3\n",
      "Df Model:                           3                                         \n",
      "Covariance Type:            nonrobust                                         \n",
      "==============================================================================\n",
      "                 coef    std err          t      P>|t|      [0.025      0.975]\n",
      "------------------------------------------------------------------------------\n",
      "Intercept      3.6617      0.457      8.013      0.000       2.759       4.565\n",
      "youtube        0.0455      0.002     26.879      0.000       0.042       0.049\n",
      "facebook       0.1860      0.010     17.928      0.000       0.165       0.206\n",
      "newspaper     -0.0028      0.007     -0.413      0.680      -0.016       0.010\n",
      "==============================================================================\n",
      "Omnibus:                       58.669   Durbin-Watson:                   1.732\n",
      "Prob(Omnibus):                  0.000   Jarque-Bera (JB):              180.592\n",
      "Skew:                          -1.526   Prob(JB):                     6.10e-40\n",
      "Kurtosis:                       7.425   Cond. No.                         567.\n",
      "==============================================================================\n",
      "\n",
      "Notes:\n",
      "[1] Standard Errors assume that the covariance matrix of the errors is correctly specified.\n"
     ]
    }
   ],
   "source": [
    "df_train = x_train\n",
    "df_train['sales'] = y_train\n",
    "\n",
    "model1 = sm.OLS.from_formula('sales ~ youtube + facebook + newspaper', df_train).fit()\n",
    "print(model1.summary())"
   ]
  },
  {
   "cell_type": "markdown",
   "id": "fea4f573",
   "metadata": {},
   "source": [
    "#### Model with interaction between youtube and facebook and youtube and newspaper"
   ]
  },
  {
   "cell_type": "code",
   "execution_count": 34,
   "id": "6c0fca6b",
   "metadata": {},
   "outputs": [
    {
     "name": "stdout",
     "output_type": "stream",
     "text": [
      "                            OLS Regression Results                            \n",
      "==============================================================================\n",
      "Dep. Variable:                  sales   R-squared:                       0.965\n",
      "Model:                            OLS   Adj. R-squared:                  0.963\n",
      "Method:                 Least Squares   F-statistic:                     783.9\n",
      "Date:                Thu, 02 Jun 2022   Prob (F-statistic):          1.63e-102\n",
      "Time:                        00:23:31   Log-Likelihood:                -226.17\n",
      "No. Observations:                 150   AIC:                             464.3\n",
      "Df Residuals:                     144   BIC:                             482.4\n",
      "Df Model:                           5                                         \n",
      "Covariance Type:            nonrobust                                         \n",
      "=====================================================================================\n",
      "                        coef    std err          t      P>|t|      [0.025      0.975]\n",
      "-------------------------------------------------------------------------------------\n",
      "Intercept             8.3423      0.388     21.521      0.000       7.576       9.108\n",
      "youtube               0.0184      0.002      9.414      0.000       0.015       0.022\n",
      "facebook              0.0013      0.012      0.108      0.914      -0.023       0.025\n",
      "newspaper             0.0161      0.007      2.218      0.028       0.002       0.031\n",
      "youtube:facebook      0.0010   5.92e-05     17.467      0.000       0.001       0.001\n",
      "youtube:newspaper -7.859e-05   3.41e-05     -2.303      0.023      -0.000   -1.11e-05\n",
      "==============================================================================\n",
      "Omnibus:                      102.375   Durbin-Watson:                   1.638\n",
      "Prob(Omnibus):                  0.000   Jarque-Bera (JB):              828.982\n",
      "Skew:                          -2.388   Prob(JB):                    9.74e-181\n",
      "Kurtosis:                      13.480   Cond. No.                     4.81e+04\n",
      "==============================================================================\n",
      "\n",
      "Notes:\n",
      "[1] Standard Errors assume that the covariance matrix of the errors is correctly specified.\n",
      "[2] The condition number is large, 4.81e+04. This might indicate that there are\n",
      "strong multicollinearity or other numerical problems.\n"
     ]
    }
   ],
   "source": [
    "model2 = sm.OLS.from_formula('sales ~ youtube + facebook + newspaper + youtube:facebook + youtube:newspaper', df_train).fit()\n",
    "print(model2.summary())"
   ]
  },
  {
   "cell_type": "markdown",
   "id": "4777d74b",
   "metadata": {},
   "source": [
    "Differences between interaction and non-interaction regression:  \n",
    "   \n",
    "    1. Adjusted R2 is greater for model2 with interaction. Adjusted R2 represents percentage of variation in response variable explained by predictor variable.\n",
    "    2. Standard error: Lower the standard error, better the model. Model with interaction has lower standard error.  \n",
    "    3. t-value means what is the standard error in the coefficient. A large t-value, relative to standard error, would provide evidence against the null hypothesis and indicate that a relationships exists between the independent and dependent variable. Predictors with low t-statistics can be dropped. Ideally, the t-value should be greater than 1.96 for a p-value to be less than 0.05.  \n",
    "    4.P-value should be less than 0.05. Pr(>t) represents the p-value or the probability of observing a value larger than t.\n",
    "    5. AIC, BIC is also low for second model with interaction.\n",
    "    6. The F-test of overall significance indicates whether your linear regression model provides a better fit to the data than a model that contains no independent variables. The greater the F-value the better. We see that model with interaction has greater overall F-value.  \n",
    "    \n",
    "Hence we conclude that there is significant interaction between facebook and newspaper advertisement and Youtube ads in predicting the sales of the company.  "
   ]
  },
  {
   "cell_type": "code",
   "execution_count": null,
   "id": "3da5e3cd",
   "metadata": {},
   "outputs": [],
   "source": []
  }
 ],
 "metadata": {
  "kernelspec": {
   "display_name": "Python 3 (ipykernel)",
   "language": "python",
   "name": "python3"
  },
  "language_info": {
   "codemirror_mode": {
    "name": "ipython",
    "version": 3
   },
   "file_extension": ".py",
   "mimetype": "text/x-python",
   "name": "python",
   "nbconvert_exporter": "python",
   "pygments_lexer": "ipython3",
   "version": "3.9.7"
  }
 },
 "nbformat": 4,
 "nbformat_minor": 5
}
